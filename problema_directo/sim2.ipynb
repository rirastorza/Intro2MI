{
 "cells": [
  {
   "cell_type": "markdown",
   "metadata": {},
   "source": [
    "# Uso del módulo fordward\n",
    "\n",
    "En el módulo *forward* se implementan algunas formas de resolución del problema directo de imágenes por microondas de un arreglo circular de antenas. Para el caso analítico solo se considera el caso en que el dispersor es un cilindro centrado. En los casos del método de diferencias finitas (FDTD), elementos finitos (FEM), y el método de los momentos (MoM) se pueden generar geometrías más complejas.\n",
    "\n",
    "- FDTD está implementado en el software [meep](https://meep.readthedocs.io/en/latest/).\n",
    "\n",
    "- FEM está implementado en el software [FEniCS](https://fenicsproject.org/)***(IMPLEMENTAR).\n",
    "\n",
    "- MoM está implementado completo basado en [1]***(IMPLEMENTAR).\n",
    "\n",
    "Libros y publicaciones:\n",
    "\n",
    "[1] Xudong Chen, Computational Methods for Electromagnetic Inverse Scattering\n",
    "\n",
    "[2] Matteo Pastorino, Microwave Imaging\n",
    "\n",
    "\n",
    "Módulo Python: forward\n",
    "\n",
    "Autores: Ramiro Irastorza \n",
    "\n",
    "Email: rirastorza@iflysib.unlp.edu.ar\n"
   ]
  },
  {
   "cell_type": "markdown",
   "metadata": {},
   "source": [
    "## Para correr en Google Colab\n",
    "\n",
    "Ejecutar este documento en forma dinámica:[![Open In Colab](https://colab.research.google.com/assets/colab-badge.svg)](https://colab.research.google.com/github/rirastorza/Intro2MI/blob/master/problema_directo/sim2.ipynb)"
   ]
  },
  {
   "cell_type": "code",
   "execution_count": null,
   "metadata": {},
   "outputs": [],
   "source": [
    "%%capture\n",
    "# install conda\n",
    "!pip install -q condacolab\n",
    "import condacolab\n",
    "condacolab.install()\n",
    "!which conda\n",
    "\n",
    "# install meep (python)\n",
    "!conda install -c conda-forge pymeep\n",
    "\n",
    "## Parallel Meep (MPI version)\n",
    "!conda create -n pmp -c conda-forge pymeep=*=mpi_mpich_*\n",
    "!conda activate pmp"
   ]
  },
  {
   "cell_type": "code",
   "execution_count": null,
   "metadata": {},
   "outputs": [],
   "source": [
    "%%capture\n",
    "!wget https://github.com/rirastorza/Intro2MI/blob/main/problema_directo/forward.py"
   ]
  },
  {
   "cell_type": "markdown",
   "metadata": {},
   "source": [
    "\n",
    "## Ejemplo de uso para validación con modelo teórico analítico\n",
    "\n",
    "Primero, se cargan los paquetes necesarios."
   ]
  },
  {
   "cell_type": "code",
   "execution_count": 1,
   "metadata": {},
   "outputs": [],
   "source": [
    "from forward import *\n",
    "import time as tm\n",
    "#import os\n",
    "import numpy as np\n",
    "#from numpy import genfromtxt\n",
    "import matplotlib.pyplot as plt"
   ]
  },
  {
   "cell_type": "markdown",
   "metadata": {},
   "source": [
    "\n",
    "### Modelo analítico\n",
    "\n",
    "El modelo analítico lo implementamos según S. Arslanagic y O. Breinbjerg (2006) [enlace](https://ieeexplore.ieee.org/document/1703397). Es un modelo Transversal Magnético con un campo cilíndrico excitado en dirección z. La implementación es con un cilindro centrado en el origen (0,0) solamente, no se puede modificar el centro del cilindro. Se define la frecuencia, el tamaño de la caja de simulación 25 cm x 25 cm, donde está el arreglo de n antenas (en el ejemplo 4 antenas). Se crean los objetos _TRANSMISOR_parameters_ y _ACOPLANTE_parameters_ y se les asignan las propiedades, de igual manera que el tutorial anterior. Estos objetos contienen información del arreglo de antenas y del fluido de acoplamiento, respectivamente. El acoplante, en este ejemplo, es agua con sal cuyo modelo dieléctrico es un Debye (una frecuencia de relajación) con conductividad iónica."
   ]
  },
  {
   "cell_type": "code",
   "execution_count": 2,
   "metadata": {},
   "outputs": [
    {
     "name": "stdout",
     "output_type": "stream",
     "text": [
      "frecuencia de medición (GHz):  1.1\n",
      "Xc: 0.0 Yc: 0.0 r: 0.0125\n",
      "Permitividad medio: 76.7822536826101\n",
      "Conductividad medio: 0.642275452117437\n",
      "Permitividad del cilindro: 2.1\n",
      "Conductividad del cilindro: 0.0\n"
     ]
    }
   ],
   "source": [
    "start_time = tm.strftime('%H:%M:%S')\n",
    "f = 1.1e9\n",
    "print('frecuencia de medición (GHz): ',f/1e9)\n",
    "sx = 0.25\n",
    "sy = 0.25\n",
    "box = [sx,sy]\n",
    "TRANSMISOR_parameters = TRANSMISOR_parameters()\n",
    "TRANSMISOR_parameters.f = f\n",
    "TRANSMISOR_parameters.amp = 7.5e4\n",
    "TRANSMISOR_parameters.rhoS = 0.075\n",
    "TRANSMISOR_parameters.S = 4.\n",
    "RECEPTOR_parameters.f = f #frecuencia 1 GHz (por defecto)\n",
    "RECEPTOR_parameters.amp = 7.5e4#3500 #Amplitud de la fuente\n",
    "RECEPTOR_parameters.rhoS = 0.075 #radio de transmisores\n",
    "RECEPTOR_parameters.S = 4 ##cantidad de transmisores (fuentes)\n",
    "#Coordenadas antenas\n",
    "angulo = N.linspace(0.0, 2.0*pi, 5)\n",
    "xantenas = (TRANSMISOR_parameters.rhoS)*N.cos(angulo)\n",
    "yantenas = (TRANSMISOR_parameters.rhoS)*N.sin(angulo)\n",
    "#Generación de modelos\n",
    "r = 25.0e-3/2\n",
    "Xc = 0.0\n",
    "Yc = 0.0\n",
    "print('Xc:', Xc,'Yc:', Yc,'r:',r)\n",
    "#Dibujo la geometría generada\n",
    "cilindro = plt.Circle((Xc,Yc),r,fill = False)\n",
    "frel = 20e9\n",
    "sigmadc = 400e-3\n",
    "epsc = 4.8+(77.0-4.8)/(1+1j*TRANSMISOR_parameters.f/frel)+sigmadc/(1j*eps0*2*pi*TRANSMISOR_parameters.f)\n",
    "ACOPLANTE_parameters = ACOPLANTE_parameters()\n",
    "ACOPLANTE_parameters.f = TRANSMISOR_parameters.f\n",
    "ACOPLANTE_parameters.epsr = epsc.real  #frecuencia 1 GHz (por defecto).\n",
    "ACOPLANTE_parameters.sigma = -epsc.imag*(eps0*2*pi*TRANSMISOR_parameters.f)#conductividad. Entre [0.40, 1.60]\n",
    "#Comienzo de simulación\n",
    "cilindro1 = SCATTERER_parameters()\n",
    "cilindro1.epsr = 2.1 #permitividad relativa. Entre [10.0, 80.0]\n",
    "cilindro1.sigma = 0.0\n",
    "cilindro1.f = TRANSMISOR_parameters.f #frecuencia 1 GHz (por defecto).\n",
    "cilindro1.radio = r\n",
    "cilindro1.xc = Xc\n",
    "cilindro1.yc = Yc\n",
    "print('Permitividad medio:',ACOPLANTE_parameters.epsr)\n",
    "print('Conductividad medio:',ACOPLANTE_parameters.sigma)\n",
    "print('Permitividad del cilindro:',cilindro1.epsr)\n",
    "print('Conductividad del cilindro:',cilindro1.sigma)"
   ]
  },
  {
   "cell_type": "markdown",
   "metadata": {},
   "source": [
    "La función que resuelve el problema analítico se llama: _EZ_CILINDER_LINESOURCE_MATRIZ(eps_data,cilindro1,ACOPLANTE_parameters,TRANSMISOR_parameters,tx,deltaX)_. Las entradas son similares a la de la función _Runmeep_ con la diferencia que el primer argumento _eps_data_ es una variable que se utiliza para obtener la grilla discreta donde se quiere calcular el campo. Esta grilla se saca de Meep, en consecuencia primero se debe correr la simulación FDTD con _Runmeep_ y luego la analítica. La salida de la función es una matriz compleja con el valor del campo $E_{z}$ en cada punto de la grilla. "
   ]
  },
  {
   "cell_type": "code",
   "execution_count": 3,
   "metadata": {},
   "outputs": [
    {
     "name": "stdout",
     "output_type": "stream",
     "text": [
      "sxa:  50.0 sxa:  50.0\n",
      "-----------\n",
      "Initializing structure...\n",
      "time for choose_chunkdivision = 0.000269175 s\n",
      "Working in 2D dimensions.\n",
      "Computational cell is 50 x 50 x 0 with resolution 5\n",
      "     cylinder, center = (0,0,0)\n",
      "          radius 2.5, height 1e+20, axis (0, 0, 1)\n",
      "          dielectric constant epsilon diagonal = (2.1,2.1,2.1)\n",
      "time for set_epsilon = 0.0530429 s\n",
      "time for set_conductivity = 0.00289893 s\n",
      "time for set_conductivity = 0.00373793 s\n",
      "time for set_conductivity = 0.0048399 s\n",
      "-----------\n",
      "Meep: using complex fields.\n"
     ]
    },
    {
     "name": "stderr",
     "output_type": "stream",
     "text": [
      "Widget Javascript not detected.  It may not be installed or enabled properly. Reconnecting the current kernel may help.\n"
     ]
    },
    {
     "data": {
      "application/vnd.jupyter.widget-view+json": {
       "model_id": "049cf2f2a419448e94a6564279918fbc"
      }
     },
     "metadata": {},
     "output_type": "display_data"
    },
    {
     "name": "stdout",
     "output_type": "stream",
     "text": [
      "Meep progress: 342.20000000000005/600.0 = 57.0% done in 4.0s, 3.0s to go\n",
      "on time step 3427 (time=342.7), 0.0011677 s/step\n",
      "run 0 finished at t = 600.0 (6000 timesteps)\n"
     ]
    },
    {
     "data": {
      "image/png": "[encoded data removed]",
      "text/plain": [
       "<Figure size 432x288 with 2 Axes>"
      ]
     },
     "metadata": {
      "needs_background": "light"
     },
     "output_type": "display_data"
    }
   ],
   "source": [
    "resolucion = 5\n",
    "n = resolucion*sx/a\n",
    "tx = 2\n",
    "xS = (0.15/2)*N.cos(tx*2*pi/4.) #Coordenada x antena emisora\n",
    "yS = (0.15/2)*N.sin(tx*2*pi/4.)\n",
    "\n",
    "a = 0.005\n",
    "\n",
    "Ezfdtd,eps_data = RunMeep(cilindro1,ACOPLANTE_parameters,TRANSMISOR_parameters,RECEPTOR_parameters,tx, box,RES = resolucion,calibration = False, unit = a,nt = 300)\n",
    "\n",
    "plt.figure()\n",
    "extent2=[-0.25/2,0.25/2,-0.25/2,0.25/2]\n",
    "plt.imshow(abs(Ezfdtd).transpose(),extent = extent2)#cmap = 'binary')\n",
    "plt.plot(xS,yS,'ow')\n",
    "plt.colorbar()\n",
    "#Dibujo el mapa de permitividad\n",
    "NN = len(eps_data)\n",
    "deltaX = sx/(NN)"
   ]
  },
  {
   "cell_type": "markdown",
   "metadata": {},
   "source": [
    "Ahora calculamos la solución analítica, mediante."
   ]
  },
  {
   "cell_type": "code",
   "execution_count": 4,
   "metadata": {},
   "outputs": [],
   "source": [
    "x,Eztheory1 = EZ_CILINDER_LINESOURCE_MATRIZ(eps_data,cilindro1,ACOPLANTE_parameters,TRANSMISOR_parameters,tx,deltaX)"
   ]
  },
  {
   "cell_type": "markdown",
   "metadata": {},
   "source": [
    "Luego dibujamos y comparamos en la posición x = 0, para todo y. "
   ]
  },
  {
   "cell_type": "code",
   "execution_count": 5,
   "metadata": {},
   "outputs": [
    {
     "data": {
      "image/png": "[encoded data removed]",
      "text/plain": [
       "<Figure size 432x288 with 2 Axes>"
      ]
     },
     "metadata": {
      "needs_background": "light"
     },
     "output_type": "display_data"
    },
    {
     "name": "stdout",
     "output_type": "stream",
     "text": [
      "start time:  10:26:17\n",
      "end time:    10:29:25\n"
     ]
    }
   ],
   "source": [
    "x = np.linspace(-len(eps_data)*deltaX/2., len(eps_data)*deltaX/2., len(eps_data))\n",
    "\n",
    "fig2 = plt.figure(2)\n",
    "f2 = fig2.add_subplot(211)\n",
    "f2.plot(x,abs(Eztheory1[:,int(len(Eztheory1)/2)]),'b')\n",
    "f2.plot(x,abs(Ezfdtd[:,int(len(Ezfdtd)/2)]),'.g')\n",
    "f2.set_xlabel(r'y')\n",
    "f2.set_ylabel(r'abs($E_{z}$)')\n",
    "f2 = fig2.add_subplot(212)\n",
    "f2.plot(x,N.angle(Eztheory1)[:,int(len(Eztheory1)/2)],'b')\n",
    "f2.plot(x,-N.angle(Ezfdtd)[:,int(len(Ezfdtd)/2)],'.g')\n",
    "f2.set_xlabel(r'y')\n",
    "f2.set_ylabel(r'angle($E_{z}$)')\n",
    "\n",
    "plt.show()\n",
    "\n",
    "print('start time: ', start_time)\n",
    "print('end time:   ', tm.strftime('%H:%M:%S'))"
   ]
  },
  {
   "cell_type": "markdown",
   "metadata": {},
   "source": [
    "## Conclusión\n",
    "\n",
    "Remarcamos que para poder llegar a los mismos valores que el analítico, debemos setear la fuente en meep con un valor dado: _TRANSMISOR_parameters.amp = 7.5e4_. Esto puede cambiar si el medio de acoplamiento es otro.\n",
    "\n",
    "$$E^{inc}_{z}=-I_{e}\\frac{\\omega\\mu_{0}}{4}H^{\\left(2\\right)}_{0}\\left(k_{b}\\left|\\rho-\\rho_{0}\\right|\\right)$$\n",
    "\n",
    "En este caso $I_{e} = 1$. \n",
    "\n",
    "Como se puede ver, la aproximación con resolución 5 en meep es muy buena y con un tiempo de simulación 600 (600 pasos, está como constante dentro de la función _Runmeep_, la constante nt = 600) ya es suficiente."
   ]
  },
  {
   "cell_type": "code",
   "execution_count": null,
   "metadata": {},
   "outputs": [],
   "source": []
  }
 ],
 "metadata": {
  "kernelspec": {
   "display_name": "Python 3 (ipykernel)",
   "language": "python",
   "name": "python3"
  },
  "language_info": {
   "codemirror_mode": {
    "name": "ipython",
    "version": 3
   },
   "file_extension": ".py",
   "mimetype": "text/x-python",
   "name": "python",
   "nbconvert_exporter": "python",
   "pygments_lexer": "ipython3",
   "version": "3.12.3"
  }
 },
 "nbformat": 4,
 "nbformat_minor": 2
}
