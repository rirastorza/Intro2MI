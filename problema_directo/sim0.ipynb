{
 "cells": [
  {
   "cell_type": "markdown",
   "metadata": {},
   "source": [
    "# Uso del módulo fordward\n",
    "\n",
    "En el módulo *forward* se implementan algunas formas de resolución del problema directo de imágenes por microondas de un arreglo circular de antenas. Para el caso analítico solo se considera el caso en que el dispersor es un cilindro centrado. En los casos del método de diferencias finitas (FDTD), elementos finitos (FEM), y el método de los momentos (MoM) se pueden generar geometrías más complejas.\n",
    "\n",
    "- FDTD está implementado en el software [meep](https://meep.readthedocs.io/en/latest/).\n",
    "\n",
    "- FEM está implementado en el software [FEniCS](https://fenicsproject.org/)***(IMPLEMENTAR).\n",
    "\n",
    "- MoM está implementado completo basado en [1]***(IMPLEMENTAR).\n",
    "\n",
    "Libros y publicaciones:\n",
    "\n",
    "[1] Xudong Chen, Computational Methods for Electromagnetic Inverse Scattering\n",
    "\n",
    "[2] Matteo Pastorino, Microwave Imaging\n",
    "\n",
    "\n",
    "Módulo Python: forward\n",
    "\n",
    "Autores: Julián Galván & Ramiro Irastorza \n",
    "\n",
    "Email: rirastorza@iflysib.unlp.edu.ar\n"
   ]
  },
  {
   "cell_type": "markdown",
   "metadata": {},
   "source": [
    "## Módulo forward **COMPLETAR\n",
    "\n",
    "Breve descripción del módulo. Si se ejecuta solo con la instrucción:\n",
    "\n",
    "> python3 forward.py\n",
    "\n",
    "A continuación se comentan varios ejemplos de simulación.\n",
    "\n",
    "## Ejemplo de uso para calibración\n",
    "\n",
    "### Conversión de parámetros $S_{12}$ a campo eléctrico $E_{z}$ y calibración\n",
    "\n",
    "El coeficiente de transmisión entre antena transmisora (tx) y receptora (tr) se denomina parámetro $S_{12}$. Como los algoritmos de reconstrucción de imágenes siempre utilizan el campo eléctrico entonces es necesario traducir la información medida ($S_{12}$) a la teórica ($E_{z}$, en nuestro caso porque utilizamos algorimos 2D en configuración TM). Según Ostadrahimi M. y otros (2011) [enlace](https://www.researchgate.net/profile/Amer_Zakaria/publication/224257030_Analysis_of_Incident_Field_Modeling_and_IncidentScattered_Field_Calibration_Techniques_in_Microwave_Tomography/links/0912f50a51f7a51be0000000.pdf), esto se puede hacer calculando los coeficientes de calibración ($c_{F}$) en cada uno de los **receptores** para cada uno de los **transmisores**. Con el cálculo de estos coeficientes también se pueden compesar algunos otros errores debido a diferentes longitudes de camino. Se puede hacer de dos maneras:\n",
    "\n",
    "1. Con el campo incidente. La expresión en este caso es la siguiente:\n",
    "\n",
    "$$c_{F_{ls}} = \\dfrac{E_{esperado}^{inc}}{S_{medido}^{inc}}$$\n",
    "\n",
    "donde $E_{esperado}^{inc}$ es el campo simulado o calculado analíticamene en cada receptor y $S_{medido}^{inc}$ el coeficiente de dispersión medido. El subíndice _ls_ es de line source.\n",
    "\n",
    "2. Con el campo disperso por un medio canónico, por ejemplo, cilindro centrado en (0,0) con dieléctrico conocido. Se reemplaza _inc_ por el _sct_, es decir, el campo eléctrico calculado y el coeficiente de dispersión con en el centro (_problema canónico_).\n",
    "\n",
    "En este jupyter notebook vamos a calcular las dos formas. Vamos utilizar los $S_{medido}$ con nuestro setup experimental y además también vamos a simular los parámetros $S$ en 3D con FEM, luego compararemos con los valores obtenidos con simulación 2D de los campos eléctricos simulados con FDTD.\n",
    "\n",
    "### Simulación\n",
    "\n",
    "En lo que sigue, simularemos tanto el campo incidente (sólo con el medio de acoplamiento) y el campo con el cilindro canónico (cilindro de teflón de diámetro 25 mm centrado en (0,0)). A continuación, mostramos cómo hacer la simulación con la librería _forward_."
   ]
  },
  {
   "cell_type": "code",
   "execution_count": 1,
   "metadata": {},
   "outputs": [],
   "source": [
    "from forward import *\n",
    "import time as tm\n",
    "import os\n",
    "import numpy as np\n",
    "from numpy import genfromtxt\n",
    "import matplotlib.pyplot as plt"
   ]
  },
  {
   "cell_type": "markdown",
   "metadata": {},
   "source": [
    "Iniciamos el contador para estimar cuanto tarda la simulación del modelo."
   ]
  },
  {
   "cell_type": "code",
   "execution_count": 2,
   "metadata": {},
   "outputs": [],
   "source": [
    "start_time = tm.strftime('%H:%M:%S')"
   ]
  },
  {
   "cell_type": "markdown",
   "metadata": {},
   "source": [
    "Se define la frecuencia, el tamaño de la caja de simulación 25 cm x 25 cm, donde está el arreglo de n antenas (en el ejemplo 4 antenas). Se crean los objetos _TRANSMISOR_parameters_ y _ACOPLANTE_parameters_ y se les asignan las propiedades. Estos objetos contienen información del arreglo de antenas y del fluido de acoplamiento, respectivamente. El acoplante, en este ejemplo, es agua con sal cuyo modelo dieléctrico es un Debye (una frecuencia de relajación) con conductividad iónica."
   ]
  },
  {
   "cell_type": "code",
   "execution_count": 3,
   "metadata": {},
   "outputs": [
    {
     "name": "stdout",
     "output_type": "stream",
     "text": [
      "frecuencia de medición (GHz):  1.1\n"
     ]
    },
    {
     "data": {
      "image/png": "[encoded data removed]",
      "text/plain": [
       "<Figure size 432x288 with 2 Axes>"
      ]
     },
     "metadata": {
      "needs_background": "light"
     },
     "output_type": "display_data"
    }
   ],
   "source": [
    "f = 1.1e9\n",
    "print('frecuencia de medición (GHz): ',f/1e9)\n",
    "sx = 0.25\n",
    "sy = 0.25\n",
    "box = [sx,sy]\n",
    "\n",
    "TRANSMISOR_parameters = TRANSMISOR_parameters()\n",
    "TRANSMISOR_parameters.f = f\n",
    "TRANSMISOR_parameters.amp = 10000.\n",
    "TRANSMISOR_parameters.rhoS = 0.075\n",
    "TRANSMISOR_parameters.S = 4.\n",
    "\n",
    "#Debye para graficar\n",
    "frel = 20e9\n",
    "sigmadc = 400e-3\n",
    "frec = N.linspace(100e6,3e9,1000)#para dibujar\n",
    "epsc = 4.8+(77.0-4.8)/(1+1j*frec/frel)+sigmadc/(1j*eps0*2*pi*frec)#para dibujar\n",
    "\n",
    "fig2 = plt.figure(1)\n",
    "ax1 = fig2.add_subplot(121)\n",
    "ax1.semilogx(frec,epsc.real,'-k')\n",
    "ax1.set_xlim([0.6e9, 1.6e9])\n",
    "ax1.set_ylabel('Parte real permitividad')\n",
    "ax1.set_xlabel('Frecuencia (Hz)')\n",
    "ax2 = fig2.add_subplot(122)\n",
    "ax2.semilogx(frec,-epsc.imag,'-b')\n",
    "ax2.set_xlim([0.6e9, 1.6e9])\n",
    "ax2.set_ylabel('Parte imaginaria permitividad')\n",
    "ax2.set_xlabel('Frecuencia (Hz)')\n",
    "\n",
    "#Definición de Debye para simular:\n",
    "epsc = 4.8+(77.0-4.8)/(1+1j*TRANSMISOR_parameters.f/frel)+sigmadc/(1j*eps0*2*pi*TRANSMISOR_parameters.f)\n",
    "ACOPLANTE_parameters = ACOPLANTE_parameters()\n",
    "ACOPLANTE_parameters.f = TRANSMISOR_parameters.f\n",
    "ACOPLANTE_parameters.epsr = epsc.real \n",
    "ACOPLANTE_parameters.sigma = -epsc.imag*(eps0*2*pi*TRANSMISOR_parameters.f)\n",
    "plt.show()"
   ]
  },
  {
   "cell_type": "markdown",
   "metadata": {},
   "source": [
    "Luego se define el cilindro dispersor pasando los parámetros al objeto _SCATTERER_parameters_. El cilindro está centrado en (0,0) y es de teflon (permitividad relativa 2.1 y conductividad nula). Aquí también lo dibujamos, junto con el arreglo de antenas."
   ]
  },
  {
   "cell_type": "code",
   "execution_count": 4,
   "metadata": {},
   "outputs": [
    {
     "name": "stdout",
     "output_type": "stream",
     "text": [
      "Xc: 0.0 Yc: 0.0 r: 0.0125\n",
      "Permitividad medio: 76.7822536826101\n",
      "Conductividad medio: 0.642275452117437\n",
      "Permitividad del cilindro: 2.1\n",
      "Conductividad del cilindro: 0.0\n"
     ]
    },
    {
     "data": {
      "image/png": "[encoded data removed]",
      "text/plain": [
       "<Figure size 432x288 with 1 Axes>"
      ]
     },
     "metadata": {
      "needs_background": "light"
     },
     "output_type": "display_data"
    }
   ],
   "source": [
    "#Coordenadas antenas\n",
    "angulo = N.linspace(0.0, 2.0*pi, 5)\n",
    "xantenas = (TRANSMISOR_parameters.rhoS)*N.cos(angulo)\n",
    "yantenas = (TRANSMISOR_parameters.rhoS)*N.sin(angulo)\n",
    "\n",
    "#Generación de modelos\n",
    "r = 25.0e-3/2.0\n",
    "Xc = 0.0\n",
    "Yc = 0.0\n",
    "\n",
    "print('Xc:', Xc,'Yc:', Yc,'r:',r)\n",
    "\n",
    "#Dibujo la geometría generada\n",
    "cilindro = plt.Circle((Xc,Yc),r,fill = False)\n",
    "\n",
    "#Cargo los parámetros del cilindro\n",
    "cilindro1 = SCATTERER_parameters()\n",
    "cilindro1.epsr = 2.1 #permitividad relativa. Entre [10.0, 80.0]\n",
    "cilindro1.sigma = 0.0\n",
    "cilindro1.f = TRANSMISOR_parameters.f #frecuencia 1.0 GHz (por defecto).\n",
    "cilindro1.radio = r\n",
    "cilindro1.xc = Xc\n",
    "cilindro1.yc = Yc\n",
    "\n",
    "print('Permitividad medio:',ACOPLANTE_parameters.epsr)\n",
    "print('Conductividad medio:',ACOPLANTE_parameters.sigma)\n",
    "\n",
    "print('Permitividad del cilindro:',cilindro1.epsr)\n",
    "print('Conductividad del cilindro:',cilindro1.sigma)\n",
    "\n",
    "figure, axes = plt.subplots()\n",
    "plt.xlim(-0.25/2, 0.25/2)\n",
    "plt.ylim(-0.25/2 , 0.25/2)\n",
    "axes.set_aspect(1)\n",
    "axes.add_artist(cilindro)\n",
    "axes.plot(xantenas,yantenas,'ok')\n",
    "plt.show()"
   ]
  },
  {
   "cell_type": "markdown",
   "metadata": {},
   "source": [
    "Ahora simulamos, utilizando el transmisor número 2 (_tx = 2_) luego seleccionamos el campo en el receptor 0 (_t_r=0_). De esta manera obtenemos $E_{esperado}^{inc}$ y $E_{esperado}^{sct}$."
   ]
  },
  {
   "cell_type": "code",
   "execution_count": 5,
   "metadata": {},
   "outputs": [
    {
     "name": "stdout",
     "output_type": "stream",
     "text": [
      "sxa:  50.0 sxa:  50.0\n",
      "-----------\n",
      "Initializing structure...\n",
      "time for choose_chunkdivision = 0.000200987 s\n",
      "Working in 2D dimensions.\n",
      "Computational cell is 50 x 50 x 0 with resolution 5\n",
      "     cylinder, center = (0,0,0)\n",
      "          radius 2.5, height 1e+20, axis (0, 0, 1)\n",
      "          dielectric constant epsilon diagonal = (2.1,2.1,2.1)\n",
      "time for set_epsilon = 0.0416849 s\n",
      "time for set_conductivity = 0.00306797 s\n",
      "time for set_conductivity = 0.00319409 s\n",
      "time for set_conductivity = 0.00309205 s\n",
      "-----------\n",
      "Meep: using complex fields.\n"
     ]
    },
    {
     "name": "stderr",
     "output_type": "stream",
     "text": [
      "Widget Javascript not detected.  It may not be installed or enabled properly. Reconnecting the current kernel may help.\n"
     ]
    },
    {
     "data": {
      "application/vnd.jupyter.widget-view+json": {
       "model_id": "98e3869a90e7401e86ecf5cf7173d05a"
      }
     },
     "metadata": {},
     "output_type": "display_data"
    },
    {
     "name": "stdout",
     "output_type": "stream",
     "text": [
      "Meep progress: 228.3/1500.0 = 15.2% done in 4.0s, 22.3s to go\n",
      "on time step 2320 (time=232), 0.00172497 s/step\n",
      "Meep progress: 497.70000000000005/1500.0 = 33.2% done in 8.0s, 16.1s to go\n",
      "on time step 5022 (time=502.2), 0.00148081 s/step\n",
      "Meep progress: 732.0/1500.0 = 48.8% done in 12.0s, 12.6s to go\n",
      "on time step 7349 (time=734.9), 0.00171989 s/step\n",
      "Meep progress: 938.8000000000001/1500.0 = 62.6% done in 16.0s, 9.6s to go\n",
      "on time step 9432 (time=943.2), 0.00192056 s/step\n",
      "Meep progress: 1118.8/1500.0 = 74.6% done in 20.0s, 6.8s to go\n",
      "on time step 11228 (time=1122.8), 0.00222746 s/step\n",
      "Meep progress: 1276.2/1500.0 = 85.1% done in 24.0s, 4.2s to go\n",
      "on time step 12787 (time=1278.7), 0.00256673 s/step\n",
      "run 0 finished at t = 1500.0 (15000 timesteps)\n",
      "sxa:  50.0 sxa:  50.0\n",
      "-----------\n",
      "Initializing structure...\n",
      "time for choose_chunkdivision = 0.000147104 s\n",
      "Working in 2D dimensions.\n",
      "Computational cell is 50 x 50 x 0 with resolution 5\n",
      "     cylinder, center = (0,0,0)\n",
      "          radius 2.5, height 1e+20, axis (0, 0, 1)\n",
      "          dielectric constant epsilon diagonal = (76.7823,76.7823,76.7823)\n",
      "time for set_epsilon = 0.035068 s\n",
      "time for set_conductivity = 0.00279784 s\n",
      "time for set_conductivity = 0.00300193 s\n",
      "time for set_conductivity = 0.00324106 s\n",
      "-----------\n",
      "Meep: using complex fields.\n"
     ]
    },
    {
     "name": "stderr",
     "output_type": "stream",
     "text": [
      "Widget Javascript not detected.  It may not be installed or enabled properly. Reconnecting the current kernel may help.\n"
     ]
    },
    {
     "data": {
      "application/vnd.jupyter.widget-view+json": {
       "model_id": "4c9a4ecbe73d42a6ac37e08f850c5e4a"
      }
     },
     "metadata": {},
     "output_type": "display_data"
    },
    {
     "name": "stdout",
     "output_type": "stream",
     "text": [
      "Meep progress: 372.0/1500.0 = 24.8% done in 4.0s, 12.1s to go\n",
      "on time step 3725 (time=372.5), 0.00107396 s/step\n",
      "Meep progress: 746.6/1500.0 = 49.8% done in 8.0s, 8.1s to go\n",
      "on time step 7468 (time=746.8), 0.00106868 s/step\n",
      "Meep progress: 1126.3/1500.0 = 75.1% done in 12.0s, 4.0s to go\n",
      "on time step 11270 (time=1127), 0.00105226 s/step\n",
      "Meep progress: 1360.3000000000002/1500.0 = 90.7% done in 16.0s, 1.6s to go\n",
      "on time step 13605 (time=1360.5), 0.00171349 s/step\n",
      "run 0 finished at t = 1500.0 (15000 timesteps)\n"
     ]
    },
    {
     "data": {
      "image/png": "[encoded data removed]",
      "text/plain": [
       "<Figure size 432x288 with 2 Axes>"
      ]
     },
     "metadata": {
      "needs_background": "light"
     },
     "output_type": "display_data"
    }
   ],
   "source": [
    "resolucion = 5\n",
    "n = resolucion*sx/a\n",
    "tx = 2\n",
    "Ezfdtd,eps_data = RunMeep(cilindro1,ACOPLANTE_parameters,TRANSMISOR_parameters, tx, box,RES = 5,calibration = False)\n",
    "Ezfdtdinc,eps_data_no = RunMeep(cilindro1,ACOPLANTE_parameters,TRANSMISOR_parameters, tx, box,RES = 5,calibration = True)\n",
    "\n",
    "tr = 0\n",
    "xRint = int(resolucion*((0.15/2)*N.cos(tr*2*pi/4.))/a)+int(n/2) #Coordenada x antena emisora\n",
    "yRint = int(resolucion*((0.15/2)*N.sin(tr*2*pi/4.))/a)+int(n/2)\n",
    "\n",
    "EzTr = abs(Ezfdtd)[xRint,yRint]\n",
    "EzTrinc = abs(Ezfdtdinc)[xRint,yRint]\n",
    "\n",
    "plt.figure()\n",
    "extent2=[-0.25/2,0.25/2,-0.25/2,0.25/2]\n",
    "plt.imshow(abs(Ezfdtd).transpose(),extent = extent2)#cmap = 'binary')\n",
    "plt.plot(xantenas,yantenas,'ow')\n",
    "plt.colorbar()\n",
    "\n",
    "plt.show()"
   ]
  },
  {
   "cell_type": "markdown",
   "metadata": {},
   "source": [
    "Ahora calculamos los coeficientes de calibración $c_{F_{ls}}^{inc}$ y $c_{F_{ls}}^{sct}$ con los valores medidos en el setup experimental (archivo: _Med_pos_1_pos_3_prueba1.txt_, son las antenas opuestas)."
   ]
  },
  {
   "cell_type": "code",
   "execution_count": 6,
   "metadata": {},
   "outputs": [
    {
     "name": "stdout",
     "output_type": "stream",
     "text": [
      "c_F : 442.2165897982208\n",
      "start time:  10:37:17\n",
      "end time:    10:38:04\n"
     ]
    }
   ],
   "source": [
    "canonico = 'Med_pos_1_pos_3_prueba1.txt'#Cilindro de teflon\n",
    "datos = np.loadtxt(canonico,skiprows=1)\n",
    "f_medida = datos[-51,0]\n",
    "S_medida = datos[-51,1]\n",
    "\n",
    "csct_F = abs(EzTr)/abs(10**(S_medida/20))\n",
    "\n",
    "print('c_F :', csct_F)\n",
    "\n",
    "\n",
    "print('start time: ', start_time)\n",
    "print('end time:   ', tm.strftime('%H:%M:%S'))"
   ]
  },
  {
   "cell_type": "markdown",
   "metadata": {},
   "source": [
    "Ahora simulamos el cilindro de Nylon descentrado con lo cual tendremos un valor teórico y, luego, vemos cuál es el valor medido y calibrado con el coeficiente $c_{F_{ls}}^{sct}$."
   ]
  },
  {
   "cell_type": "code",
   "execution_count": 7,
   "metadata": {},
   "outputs": [
    {
     "name": "stdout",
     "output_type": "stream",
     "text": [
      "Xc: -0.025 Yc: -0.025 r: 0.01775\n",
      "Permitividad medio: 76.7822536826101\n",
      "Conductividad medio: 0.642275452117437\n",
      "Permitividad del cilindro: 4.1\n",
      "Conductividad del cilindro: 0.0\n"
     ]
    },
    {
     "data": {
      "image/png": "[encoded data removed]",
      "text/plain": [
       "<Figure size 432x288 with 1 Axes>"
      ]
     },
     "metadata": {
      "needs_background": "light"
     },
     "output_type": "display_data"
    }
   ],
   "source": [
    "r = 35.5e-3/2.0\n",
    "Xc = -0.025\n",
    "Yc = -0.025\n",
    "\n",
    "print('Xc:', Xc,'Yc:', Yc,'r:',r)\n",
    "\n",
    "#Dibujo la geometría generada\n",
    "cilindro = plt.Circle((Xc,Yc),r,fill = False)\n",
    "\n",
    "#Cargo los parámetros del cilindro\n",
    "cilindro1 = SCATTERER_parameters()\n",
    "cilindro1.epsr = 4.1 #permitividad relativa. Entre [10.0, 80.0]\n",
    "cilindro1.sigma = 0.0\n",
    "cilindro1.f = TRANSMISOR_parameters.f #frecuencia 1.0 GHz (por defecto).\n",
    "cilindro1.radio = r\n",
    "cilindro1.xc = Xc\n",
    "cilindro1.yc = Yc\n",
    "\n",
    "print('Permitividad medio:',ACOPLANTE_parameters.epsr)\n",
    "print('Conductividad medio:',ACOPLANTE_parameters.sigma)\n",
    "\n",
    "print('Permitividad del cilindro:',cilindro1.epsr)\n",
    "print('Conductividad del cilindro:',cilindro1.sigma)\n",
    "\n",
    "figure, axes = plt.subplots()\n",
    "plt.xlim(-0.25/2, 0.25/2)\n",
    "plt.ylim(-0.25/2 , 0.25/2)\n",
    "axes.set_aspect(1)\n",
    "axes.add_artist(cilindro)\n",
    "axes.plot(xantenas,yantenas,'ok')\n",
    "plt.show()"
   ]
  },
  {
   "cell_type": "code",
   "execution_count": 8,
   "metadata": {},
   "outputs": [
    {
     "name": "stdout",
     "output_type": "stream",
     "text": [
      "sxa:  50.0 sxa:  50.0\n",
      "-----------\n",
      "Initializing structure...\n",
      "time for choose_chunkdivision = 0.000267029 s\n",
      "Working in 2D dimensions.\n",
      "Computational cell is 50 x 50 x 0 with resolution 5\n",
      "     cylinder, center = (-5,-5,0)\n",
      "          radius 3.55, height 1e+20, axis (0, 0, 1)\n",
      "          dielectric constant epsilon diagonal = (4.1,4.1,4.1)\n",
      "time for set_epsilon = 0.041188 s\n",
      "time for set_conductivity = 0.002918 s\n",
      "time for set_conductivity = 0.00294995 s\n",
      "time for set_conductivity = 0.00422406 s\n",
      "-----------\n",
      "Meep: using complex fields.\n"
     ]
    },
    {
     "name": "stderr",
     "output_type": "stream",
     "text": [
      "Widget Javascript not detected.  It may not be installed or enabled properly. Reconnecting the current kernel may help.\n"
     ]
    },
    {
     "data": {
      "application/vnd.jupyter.widget-view+json": {
       "model_id": "a9911256bf714f98bea26390d4a49a09"
      }
     },
     "metadata": {},
     "output_type": "display_data"
    },
    {
     "name": "stdout",
     "output_type": "stream",
     "text": [
      "Meep progress: 382.6/1500.0 = 25.5% done in 4.0s, 11.7s to go\n",
      "on time step 3833 (time=383.3), 0.00104378 s/step\n",
      "Meep progress: 811.0/1500.0 = 54.1% done in 8.0s, 6.8s to go\n",
      "on time step 8118 (time=811.8), 0.000933573 s/step\n",
      "Meep progress: 1248.4/1500.0 = 83.2% done in 12.0s, 2.4s to go\n",
      "on time step 12491 (time=1249.1), 0.000914886 s/step\n",
      "run 0 finished at t = 1500.0 (15000 timesteps)\n"
     ]
    }
   ],
   "source": [
    "Ezfdtd_sct,eps_data = RunMeep(cilindro1,ACOPLANTE_parameters,TRANSMISOR_parameters, tx, box,RES = 5,calibration = False)\n",
    "EzTr_sct = abs(Ezfdtd_sct)[xRint,yRint]"
   ]
  },
  {
   "cell_type": "markdown",
   "metadata": {},
   "source": [
    "Ahora comparamos con la medición:"
   ]
  },
  {
   "cell_type": "code",
   "execution_count": 9,
   "metadata": {},
   "outputs": [
    {
     "name": "stdout",
     "output_type": "stream",
     "text": [
      "Ez_medido:  1.2791146738779822\n",
      "Ez_teorico:  3.333979894073625\n"
     ]
    }
   ],
   "source": [
    "canonico = 'Med_pos_1_pos_3_prueba2.txt'#Cilindro de teflon\n",
    "datos = np.loadtxt(canonico,skiprows=1)\n",
    "f_medida = datos[-51,0]\n",
    "S_medida_sct = datos[-51,1]\n",
    "EzTr_sct_medido = csct_F*abs(10**(S_medida_sct/20))\n",
    "print('Ez_medido: ',EzTr_sct_medido)\n",
    "print('Ez_teorico: ',EzTr_sct)"
   ]
  },
  {
   "cell_type": "markdown",
   "metadata": {},
   "source": [
    "Si calculamos el coeficiente de calibración con la simulación ($S_{FEM}^{sct}$). Estos coeficientes fueron calculados por simulación con elementos finitos.\n",
    "\n",
    "$$c_{F_{ls}}^{FEM} = \\dfrac{E_{esperado}^{sct}}{S_{FEM}^{sct}}$$\n"
   ]
  },
  {
   "cell_type": "code",
   "execution_count": 10,
   "metadata": {},
   "outputs": [
    {
     "name": "stdout",
     "output_type": "stream",
     "text": [
      "Ez_calibrado_fem:  1.4490094944772214\n",
      "Ez_teorico:  3.333979894073625\n"
     ]
    }
   ],
   "source": [
    "S_fem = -47.4 #dB con teflón\n",
    "csct_F_FEM = abs(EzTr)/abs(10**(S_fem/20))\n",
    "S_sct_fem = -47.15\n",
    "EzTr_sct_FEM = csct_F_FEM*abs(10**(S_sct_fem/20))\n",
    "print('Ez_calibrado_fem: ',EzTr_sct_FEM)\n",
    "print('Ez_teorico: ',EzTr_sct)"
   ]
  },
  {
   "cell_type": "markdown",
   "metadata": {},
   "source": [
    "## Conclusión\n",
    "\n"
   ]
  },
  {
   "cell_type": "code",
   "execution_count": null,
   "metadata": {},
   "outputs": [],
   "source": []
  }
 ],
 "metadata": {
  "kernelspec": {
   "display_name": "Python 3 (ipykernel)",
   "language": "python",
   "name": "python3"
  },
  "language_info": {
   "codemirror_mode": {
    "name": "ipython",
    "version": 3
   },
   "file_extension": ".py",
   "mimetype": "text/x-python",
   "name": "python",
   "nbconvert_exporter": "python",
   "pygments_lexer": "ipython3",
   "version": "3.10.6"
  }
 },
 "nbformat": 4,
 "nbformat_minor": 2
}
