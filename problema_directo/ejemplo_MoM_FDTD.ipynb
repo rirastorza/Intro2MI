{
 "cells": [
  {
   "cell_type": "markdown",
   "metadata": {},
   "source": [
    "# Uso del módulo fordward MoM comparado con FDTD\n",
    "\n",
    "En el módulo *forward* se implementan algunas formas de resolución del problema directo de imágenes por microondas de un arreglo circular de antenas. En este apartado comparamos la solución del Método de los Momentos con la analítica comentada en el apartado anterior.\n",
    "\n",
    "Se deben cumplir algunas dependencias, Meep debe estar instalado para usar el método FDTD (https://meep.readthedocs.io/en/latest/Python_Tutorials/Basics/)).\n",
    "\n",
    "Libros y publicaciones:\n",
    "\n",
    "[1] Xudong Chen, Computational Methods for Electromagnetic Inverse Scattering\n",
    "\n",
    "[2] Matteo Pastorino, Microwave Imaging\n",
    "\n",
    "\n",
    "Módulo Python: forward\n",
    "\n",
    "Autores: Ramiro Irastorza \n",
    "\n",
    "Email: rirastorza@iflysib.unlp.edu.ar"
   ]
  },
  {
   "cell_type": "markdown",
   "metadata": {},
   "source": [
    "### Para correr en Google Colab\n"
   ]
  },
  {
   "cell_type": "markdown",
   "metadata": {},
   "source": [
    "Ejecutar este documento en forma dinámica:[![Open In Colab](https://colab.research.google.com/assets/colab-badge.svg)](https://colab.research.google.com/github/rirastorza/Intro2MI/blob/master/problema_directo/ejemplo_MoM_FDTD.ipynb)"
   ]
  },
  {
   "cell_type": "code",
   "execution_count": null,
   "metadata": {},
   "outputs": [],
   "source": [
    "# install conda\n",
    "!pip install -q condacolab\n",
    "import condacolab\n",
    "condacolab.install()\n",
    "!which conda\n",
    "\n",
    "# install meep (python)\n",
    "!conda install -c conda-forge pymeep\n",
    "\n",
    "## Parallel Meep (MPI version)\n",
    "!conda create -n pmp -c conda-forge pymeep=*=mpi_mpich_*\n",
    "!conda activate pmp\n",
    "\n",
    "# Install Additional Packages just in case\n",
    "!pip install nlopt"
   ]
  },
  {
   "cell_type": "markdown",
   "metadata": {},
   "source": [
    "Para montar la función forward desde github"
   ]
  },
  {
   "cell_type": "code",
   "execution_count": null,
   "metadata": {},
   "outputs": [],
   "source": [
    "!wget https://raw.githubusercontent.com/rirastorza/Intro2MI/blob/main/problema_directo/forward.py"
   ]
  },
  {
   "cell_type": "markdown",
   "metadata": {},
   "source": [
    "\n",
    "## Ejemplo de uso para validación con modelo teórico analítico\n",
    "\n",
    "Primero, se cargan los paquetes necesarios."
   ]
  },
  {
   "cell_type": "code",
   "execution_count": 1,
   "metadata": {},
   "outputs": [
    {
     "name": "stderr",
     "output_type": "stream",
     "text": [
      "/home/ramiro/.local/lib/python3.10/site-packages/matplotlib/projections/__init__.py:63: UserWarning: Unable to import Axes3D. This may be due to multiple versions of Matplotlib being installed (e.g. as a system package and as a pip package). As a result, the 3D projection is not available.\n",
      "  warnings.warn(\"Unable to import Axes3D. This may be due to multiple versions of \"\n"
     ]
    }
   ],
   "source": [
    "from forward import *\n",
    "import numpy as np"
   ]
  },
  {
   "cell_type": "markdown",
   "metadata": {},
   "source": [
    "Luego las propiedades del cilindro dispersor, los transmisores, los receptores y algunas cosas más."
   ]
  },
  {
   "cell_type": "code",
   "execution_count": 2,
   "metadata": {},
   "outputs": [],
   "source": [
    "Tx_mom = 10#Fuente emisora\n",
    "size_DOI = 2 # size of DOI\n",
    "f =  0.4e9 #Frecuencia en Hz\n",
    "#caja de simulacion en [m]\n",
    "sx = 14#15\n",
    "sy = 14#15\n",
    "box = [sx,sy]\n",
    "a = 0.1#0.1 #meep unit\n",
    "#Antenas---------------------------------------------------------------\n",
    "nant_f = 16 #antenas emisoras\n",
    "rant_f = 6 #radio de antenas fuentes [m]\n",
    "nant_r = 16 #antenas receptoras\n",
    "rant_r =3#3 #radio de antenas receptoras[m]\n",
    "tx = Tx_mom # Fuente analizada\n",
    "#Medio acoplante---------------------------------------------------------------\n",
    "epsc = 1 #Vacío\n",
    "# Medio dispersor (cilindro)---------------------------------------------------\n",
    "r = 0.5 #10.0e-3/2 #radio del cilindro\n",
    "Xc = 0.25    #posición del centro en x\n",
    "Yc = 0   #posición del centro en y\n",
    "epsr = 1.8\n",
    "resolucion = 5 #resolución FDTD"
   ]
  },
  {
   "cell_type": "markdown",
   "metadata": {},
   "source": [
    "Se crean los objetos según las definiciones de la librería *forward*."
   ]
  },
  {
   "cell_type": "code",
   "execution_count": 3,
   "metadata": {},
   "outputs": [],
   "source": [
    "TRANSMISOR_parameters = TRANSMISOR_parameters()\n",
    "ACOPLANTE_parameters = ACOPLANTE_parameters()\n",
    "cilindro = SCATTERER_parameters()\n",
    "#Antenas-----------------------------------------------------------------------\n",
    "TRANSMISOR_parameters.f = f #frecuencia 1 GHz (por defecto)\n",
    "TRANSMISOR_parameters.amp =3750#3500 #Amplitud de la fuente\n",
    "TRANSMISOR_parameters.rhoS = rant_f #radio de transmisores\n",
    "TRANSMISOR_parameters.S = nant_f ##cantidad de transmisores (fuentes)\n",
    "#Coordenadas antenas fuentes\n",
    "angulo_f = N.linspace(0.0, 2.0*pi, nant_f+1)\n",
    "xantenas_f = (TRANSMISOR_parameters.rhoS)*N.cos(angulo_f)\n",
    "yantenas_f = (TRANSMISOR_parameters.rhoS)*N.sin(angulo_f)\n",
    "RECEPTOR_parameters.f = f #frecuencia 1 GHz (por defecto)\n",
    "RECEPTOR_parameters.amp =3750#3500 #Amplitud de la fuente\n",
    "RECEPTOR_parameters.rhoS = rant_r #radio de transmisores\n",
    "RECEPTOR_parameters.S = nant_r ##cantidad de transmisores (fuentes)\n",
    "#Coordenadas antenas receptoras\n",
    "angulo_r = N.linspace(0.0, 2.0*pi, nant_r+1)\n",
    "xantenas_r= (RECEPTOR_parameters.rhoS)*N.cos(angulo_r)\n",
    "yantenas_r = (RECEPTOR_parameters.rhoS)*N.sin(angulo_r)\n",
    "#Medio acoplante---------------------------------------------------------------\n",
    "ACOPLANTE_parameters.f = TRANSMISOR_parameters.f\n",
    "ACOPLANTE_parameters.epsr = epsc.real\n",
    "ACOPLANTE_parameters.sigma = -epsc.imag*(eps0*2*pi*TRANSMISOR_parameters.f)\n",
    "# Medio dispersor (cilindro)---------------------------------------------------\n",
    "cilindro.epsr = epsr #permitividad relativa.\n",
    "cilindro.sigma = 0.0\n",
    "cilindro.f = TRANSMISOR_parameters.f #frecuencia 1 GHz (por defecto).\n",
    "cilindro.radio = r\n",
    "cilindro.xc = Xc\n",
    "cilindro.yc = Yc"
   ]
  },
  {
   "cell_type": "markdown",
   "metadata": {},
   "source": [
    "Se puede dibujar la geometría."
   ]
  },
  {
   "cell_type": "code",
   "execution_count": 4,
   "metadata": {},
   "outputs": [
    {
     "data": {
      "image/png": "[encoded data removed]",
      "text/plain": [
       "<Figure size 432x288 with 1 Axes>"
      ]
     },
     "metadata": {
      "needs_background": "light"
     },
     "output_type": "display_data"
    }
   ],
   "source": [
    "nxantenas_r=np.round(xantenas_r*resolucion/a)+sx/a*resolucion/2\n",
    "nyantenas_r=np.round(yantenas_r*resolucion/a)+sx/a*resolucion/2\n",
    "fig1 = plt.figure(1)\n",
    "f1 = fig1.add_subplot(111)\n",
    "cilindro1 = plt.Circle((Xc,Yc),r, color='g',fill = False) #Dibujo la geometría generada\n",
    "plt.xlim(-sx/2, sx/2)\n",
    "plt.ylim(-sy/2, sy/2)\n",
    "f1.add_artist(cilindro1)\n",
    "f1.plot(xantenas_r,yantenas_r,'ok')\n",
    "f1.plot(xantenas_f,yantenas_f,'or')\n",
    "f1.set_aspect('equal')"
   ]
  },
  {
   "cell_type": "markdown",
   "metadata": {},
   "source": [
    "Ahora se llama a las dos funciones *RunMoM* (resuelve el método de los Momentos según *Richmond 1968*) y *RunMeep* (utilizando FDTD con el programa Meep, https://meep.readthedocs.io/en/latest/Python_Tutorials/Basics/)"
   ]
  },
  {
   "cell_type": "code",
   "execution_count": 5,
   "metadata": {},
   "outputs": [
    {
     "name": "stdout",
     "output_type": "stream",
     "text": [
      "sxa:  140.0 sxa:  140.0\n",
      "-----------\n",
      "Initializing structure...\n",
      "time for choose_chunkdivision = 0.000630856 s\n",
      "Working in 2D dimensions.\n",
      "Computational cell is 140 x 140 x 0 with resolution 5\n",
      "     cylinder, center = (0,2.5,0)\n",
      "          radius 5, height 1e+20, axis (0, 0, 1)\n",
      "          dielectric constant epsilon diagonal = (1.8,1.8,1.8)\n",
      "time for set_epsilon = 0.324037 s\n",
      "-----------\n",
      "Meep: using complex fields.\n"
     ]
    },
    {
     "name": "stderr",
     "output_type": "stream",
     "text": [
      "Widget Javascript not detected.  It may not be installed or enabled properly. Reconnecting the current kernel may help.\n"
     ]
    },
    {
     "data": {
      "application/vnd.jupyter.widget-view+json": {
       "model_id": "88d9a1e2af534b129cc267116ec87055"
      }
     },
     "metadata": {},
     "output_type": "display_data"
    },
    {
     "name": "stdout",
     "output_type": "stream",
     "text": [
      "Meep progress: 54.7/300.0 = 18.2% done in 4.0s, 18.0s to go\n",
      "on time step 548 (time=54.8), 0.00731238 s/step\n",
      "Meep progress: 110.80000000000001/300.0 = 36.9% done in 8.0s, 13.7s to go\n",
      "on time step 1109 (time=110.9), 0.00713275 s/step\n",
      "Meep progress: 166.9/300.0 = 55.6% done in 12.0s, 9.6s to go\n",
      "on time step 1670 (time=167), 0.00713271 s/step\n",
      "Meep progress: 222.9/300.0 = 74.3% done in 16.0s, 5.5s to go\n",
      "on time step 2230 (time=223), 0.00714572 s/step\n",
      "Meep progress: 278.6/300.0 = 92.9% done in 20.0s, 1.5s to go\n",
      "on time step 2787 (time=278.7), 0.00718511 s/step\n",
      "run 0 finished at t = 300.0 (3000 timesteps)\n"
     ]
    }
   ],
   "source": [
    "Et_forw, epsono_r = RunMoM(cilindro,ACOPLANTE_parameters,TRANSMISOR_parameters,RECEPTOR_parameters,size_doi = size_DOI,Tx = Tx_mom ,RES = 40)\n",
    "\n",
    "Ezfdtd,eps_data = RunMeep(cilindro,ACOPLANTE_parameters,TRANSMISOR_parameters, tx, box,RES = resolucion,calibration = False, unit = a,nt = 300)\n"
   ]
  },
  {
   "cell_type": "markdown",
   "metadata": {},
   "source": [
    "Ahora se puede graficar los dos casos."
   ]
  },
  {
   "cell_type": "code",
   "execution_count": 6,
   "metadata": {},
   "outputs": [
    {
     "data": {
      "text/plain": [
       "<matplotlib.image.AxesImage at 0x7fde9b357d90>"
      ]
     },
     "execution_count": 6,
     "metadata": {},
     "output_type": "execute_result"
    },
    {
     "data": {
      "image/png": "[encoded data removed]",
      "text/plain": [
       "<Figure size 432x288 with 2 Axes>"
      ]
     },
     "metadata": {
      "needs_background": "light"
     },
     "output_type": "display_data"
    }
   ],
   "source": [
    "fig2 = plt.figure(2)\n",
    "f2 = fig2.add_subplot(121)\n",
    "extent2=[-1,1,-1,1]\n",
    "f2.imshow(abs(Et_forw),cmap ='pink',origin='lower',extent = extent2)#cmap = 'binary')\n",
    "\n",
    "f2b = fig2.add_subplot(122)\n",
    "extent2=[-7,7,-7,7]\n",
    "f2b.imshow(abs(Ezfdtd),cmap ='pink',origin='lower',extent = extent2)#cmap = 'binary')\n"
   ]
  },
  {
   "cell_type": "markdown",
   "metadata": {},
   "source": [
    "Para ver los valores en x = 0, por ejemplo."
   ]
  },
  {
   "cell_type": "code",
   "execution_count": 7,
   "metadata": {},
   "outputs": [
    {
     "name": "stderr",
     "output_type": "stream",
     "text": [
      "/tmp/ipykernel_10357/2467028572.py:15: UserWarning: No artists with labels found to put in legend.  Note that artists whose label start with an underscore are ignored when legend() is called with no argument.\n",
      "  f3.legend()\n"
     ]
    },
    {
     "data": {
      "text/plain": [
       "<matplotlib.legend.Legend at 0x7fde9b30f970>"
      ]
     },
     "execution_count": 7,
     "metadata": {},
     "output_type": "execute_result"
    },
    {
     "data": {
      "image/png": "[encoded data removed]",
      "text/plain": [
       "<Figure size 432x288 with 2 Axes>"
      ]
     },
     "metadata": {
      "needs_background": "light"
     },
     "output_type": "display_data"
    }
   ],
   "source": [
    "ty_mom2 = np.linspace(-1,1,num=len(Et_forw),endpoint = True)\n",
    "tyfdtd = np.linspace(-7,7,num=len(Ezfdtd),endpoint = True)\n",
    "\n",
    "fig3 = plt.figure(6)\n",
    "f3 = fig3.add_subplot(211)\n",
    "f3.plot(tyfdtd,np.abs(Ezfdtd[:,int(len(Ezfdtd)/2)]),'-k',label='FDTD')\n",
    "f3.plot(ty_mom2,np.abs(Et_forw[:,int(len(Et_forw)/2)]),'o-b',label='MoM')\n",
    "f3.set_xlabel('x')\n",
    "f3.set_ylabel(r'abs($E_{z}$)')\n",
    "f3 = fig3.add_subplot(212)\n",
    "f3.plot(tyfdtd,-np.angle(Ezfdtd[:,int(len(Ezfdtd)/2)]),'-k',)\n",
    "f3.plot(ty_mom2,np.angle(Et_forw[:,int(len(Et_forw)/2)]),'o-b')\n",
    "f3.set_xlabel('x')\n",
    "f3.set_ylabel(r'angle($E_{z}$)')\n",
    "f3.legend()"
   ]
  },
  {
   "cell_type": "code",
   "execution_count": null,
   "metadata": {},
   "outputs": [],
   "source": []
  }
 ],
 "metadata": {
  "kernelspec": {
   "display_name": "Python 3 (ipykernel)",
   "language": "python",
   "name": "python3"
  },
  "language_info": {
   "codemirror_mode": {
    "name": "ipython",
    "version": 3
   },
   "file_extension": ".py",
   "mimetype": "text/x-python",
   "name": "python",
   "nbconvert_exporter": "python",
   "pygments_lexer": "ipython3",
   "version": "3.10.12"
  }
 },
 "nbformat": 4,
 "nbformat_minor": 2
}
