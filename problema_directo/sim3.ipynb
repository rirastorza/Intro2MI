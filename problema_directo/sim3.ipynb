{
 "cells": [
  {
   "cell_type": "markdown",
   "metadata": {},
   "source": [
    "# Uso del módulo fordward MoM comparado con analítico\n",
    "\n",
    "En el módulo *forward* se implementan algunas formas de resolución del problema directo de imágenes por microondas de un arreglo circular de antenas. En este apartado comparamos la solución del Método de los Momentos con la analítica comentada en el apartado anterior.\n",
    "\n",
    "Libros y publicaciones:\n",
    "\n",
    "[1] Xudong Chen, Computational Methods for Electromagnetic Inverse Scattering\n",
    "\n",
    "[2] Matteo Pastorino, Microwave Imaging\n",
    "\n",
    "\n",
    "Módulo Python: forward\n",
    "\n",
    "Autores: Ramiro Irastorza \n",
    "\n",
    "Email: rirastorza@iflysib.unlp.edu.ar"
   ]
  },
  {
   "cell_type": "markdown",
   "metadata": {},
   "source": [
    "\n",
    "## Ejemplo de uso para validación con modelo teórico analítico\n",
    "\n",
    "Primero, se cargan los paquetes necesarios."
   ]
  },
  {
   "cell_type": "code",
   "execution_count": 1,
   "metadata": {},
   "outputs": [],
   "source": [
    "from forward import *\n",
    "import time as tm\n",
    "import os\n",
    "import numpy as np\n",
    "from numpy import genfromtxt\n",
    "import matplotlib.pyplot as plt\n",
    "\n",
    "import numpy as np\n",
    "from scipy import constants as S\n",
    "from scipy import special"
   ]
  },
  {
   "cell_type": "markdown",
   "metadata": {},
   "source": [
    "\n",
    "### Modelo analítico y numérico con FDTD\n",
    "\n",
    "El modelo analítico lo implementamos según S. Arslanagic y O. Breinbjerg (2006) [enlace](https://ieeexplore.ieee.org/document/1703397). Es un modelo Transversal Magnético con un campo cilíndrico excitado en dirección z. La implementación es con un cilindro centrado en el origen (0,0) solamente, no se puede modificar el centro del cilindro (igual al tutorial anterior). Se define la frecuencia, el tamaño de la caja de simulación 25 cm x 25 cm, donde está el arreglo de n antenas (en el ejemplo 4 antenas). Se crean los objetos _TRANSMISOR_parameters_ y _ACOPLANTE_parameters_ y se les asignan las propiedades. Estos objetos contienen información del arreglo de antenas y del fluido de acoplamiento, respectivamente. El acoplante, en este ejemplo, tendrá $\\varepsilon_{rb} = 40.0$ y $\\sigma_{b}=0.5$, la b es de background. El cilindro tendrá $\\varepsilon_{r} = 50.0$ y $\\sigma = 0.4$ y radio 25 mm."
   ]
  },
  {
   "cell_type": "code",
   "execution_count": 2,
   "metadata": {},
   "outputs": [
    {
     "name": "stdout",
     "output_type": "stream",
     "text": [
      "frecuencia de medición (GHz):  1.1\n",
      "Xc: 0.0 Yc: 0.0 r: 0.025\n"
     ]
    },
    {
     "data": {
      "image/png": "[encoded data removed]",
      "text/plain": [
       "<Figure size 432x288 with 1 Axes>"
      ]
     },
     "metadata": {
      "needs_background": "light"
     },
     "output_type": "display_data"
    },
    {
     "name": "stdout",
     "output_type": "stream",
     "text": [
      "Permitividad medio: 40.0\n",
      "Conductividad medio: 0.5\n",
      "Permitividad del cilindro: 50.0\n",
      "Conductividad del cilindro: 0.4\n"
     ]
    }
   ],
   "source": [
    "start_time = tm.strftime('%H:%M:%S')\n",
    "f = 1.1e9\n",
    "print('frecuencia de medición (GHz): ',f/1e9)\n",
    "sx = 0.25\n",
    "sy = 0.25\n",
    "box = [sx,sy]\n",
    "TRANSMISOR_parameters = TRANSMISOR_parameters()\n",
    "TRANSMISOR_parameters.f = f\n",
    "TRANSMISOR_parameters.amp = 7.5e4\n",
    "TRANSMISOR_parameters.rhoS = 0.075\n",
    "TRANSMISOR_parameters.S = 4.\n",
    "#Coordenadas antenas\n",
    "angulo = N.linspace(0.0, 2.0*pi, 5)\n",
    "xantenas = (TRANSMISOR_parameters.rhoS)*N.cos(angulo)\n",
    "yantenas = (TRANSMISOR_parameters.rhoS)*N.sin(angulo)\n",
    "\n",
    "#Generación de modelos\n",
    "r = 25.0e-3\n",
    "Xc = 0.0\n",
    "Yc = 0.0\n",
    "print('Xc:', Xc,'Yc:', Yc,'r:',r)\n",
    "#Dibujo la geometría generada\n",
    "figure, axes = plt.subplots()\n",
    "cilindro = plt.Circle((Xc,Yc),r,fill = False)\n",
    "plt.xlim(-0.25/2, 0.25/2)\n",
    "plt.ylim(-0.25/2 , 0.25/2)\n",
    "axes.set_aspect(1)\n",
    "axes.add_artist(cilindro)\n",
    "axes.plot(xantenas,yantenas,'ok')\n",
    "plt.show()\n",
    "\n",
    "ACOPLANTE_parameters = ACOPLANTE_parameters()\n",
    "ACOPLANTE_parameters.f = TRANSMISOR_parameters.f\n",
    "ACOPLANTE_parameters.epsr = 40.0\n",
    "ACOPLANTE_parameters.sigma = 0.5 \n",
    "#Comienzo de simulación\n",
    "cilindro1 = SCATTERER_parameters()\n",
    "cilindro1.epsr = 50.0\n",
    "cilindro1.sigma = 0.4\n",
    "cilindro1.f = TRANSMISOR_parameters.f #frecuencia 1 GHz (por defecto).\n",
    "cilindro1.radio = r\n",
    "cilindro1.xc = Xc\n",
    "cilindro1.yc = Yc\n",
    "print('Permitividad medio:',ACOPLANTE_parameters.epsr)\n",
    "print('Conductividad medio:',ACOPLANTE_parameters.sigma)\n",
    "print('Permitividad del cilindro:',cilindro1.epsr)\n",
    "print('Conductividad del cilindro:',cilindro1.sigma)"
   ]
  },
  {
   "cell_type": "markdown",
   "metadata": {},
   "source": [
    "La función que resuelve el problema analítico se llama: _EZ_CILINDER_LINESOURCE_MATRIZ(eps_data,cilindro1,ACOPLANTE_parameters,TRANSMISOR_parameters,tx,deltaX)_. Las entradas son similares a la de la función _Runmeep_ con la diferencia que el primer argumento _eps_data_ es una variable que se utiliza para obtener la grilla discreta donde se quiere calcular el campo. Esta grilla se saca de Meep, en consecuencia primero se debe correr la simulación FDTD con _Runmeep_ y luego la analítica. La salida de la función es una matriz compleja con el valor del campo $E_{z}$ en cada punto de la grilla. Compararemos entonces Analítico con FDTD y con MoM."
   ]
  },
  {
   "cell_type": "code",
   "execution_count": 3,
   "metadata": {},
   "outputs": [
    {
     "name": "stdout",
     "output_type": "stream",
     "text": [
      "sxa:  50.0 sxa:  50.0\n",
      "-----------\n",
      "Initializing structure...\n",
      "time for choose_chunkdivision = 0.000432968 s\n",
      "Working in 2D dimensions.\n",
      "Computational cell is 50 x 50 x 0 with resolution 5\n",
      "     cylinder, center = (0,0,0)\n",
      "          radius 5, height 1e+20, axis (0, 0, 1)\n",
      "          dielectric constant epsilon diagonal = (50,50,50)\n",
      "time for set_epsilon = 0.077939 s\n",
      "time for set_conductivity = 0.00422597 s\n",
      "time for set_conductivity = 0.00440907 s\n",
      "time for set_conductivity = 0.00442886 s\n",
      "-----------\n",
      "Meep: using complex fields.\n"
     ]
    },
    {
     "name": "stderr",
     "output_type": "stream",
     "text": [
      "Widget Javascript not detected.  It may not be installed or enabled properly. Reconnecting the current kernel may help.\n"
     ]
    },
    {
     "data": {
      "application/vnd.jupyter.widget-view+json": {
       "model_id": "892463c49c3c464198f03d22bbf002ab"
      }
     },
     "metadata": {},
     "output_type": "display_data"
    },
    {
     "name": "stdout",
     "output_type": "stream",
     "text": [
      "Meep progress: 413.70000000000005/600.0 = 69.0% done in 4.0s, 1.8s to go\n",
      "on time step 4149 (time=414.9), 0.000964218 s/step\n",
      "run 0 finished at t = 600.0 (6000 timesteps)\n"
     ]
    },
    {
     "data": {
      "image/png": "[encoded data removed]",
      "text/plain": [
       "<Figure size 432x288 with 2 Axes>"
      ]
     },
     "metadata": {
      "needs_background": "light"
     },
     "output_type": "display_data"
    }
   ],
   "source": [
    "resolucion = 5\n",
    "n = resolucion*sx/a\n",
    "tx = 2\n",
    "xS = (0.15/2)*N.cos(tx*2*pi/4.) #Coordenada x antena emisora\n",
    "yS = (0.15/2)*N.sin(tx*2*pi/4.)\n",
    "Ezfdtd,eps_data = RunMeep(cilindro1,ACOPLANTE_parameters,TRANSMISOR_parameters, tx, box,RES = resolucion,calibration = False)\n",
    "\n",
    "plt.figure()\n",
    "extent2=[-0.25/2,0.25/2,-0.25/2,0.25/2]\n",
    "plt.imshow(abs(Ezfdtd).transpose(),extent = extent2)#cmap = 'binary')\n",
    "plt.plot(xS,yS,'ow')\n",
    "plt.colorbar()\n",
    "#Dibujo el mapa de permitividad\n",
    "NN = len(eps_data)\n",
    "deltaX = sx/(NN)"
   ]
  },
  {
   "cell_type": "markdown",
   "metadata": {},
   "source": [
    "Ahora calculamos la solución analítica, mediante."
   ]
  },
  {
   "cell_type": "code",
   "execution_count": 10,
   "metadata": {},
   "outputs": [],
   "source": [
    "x,Eztheory1 = EZ_CILINDER_LINESOURCE_MATRIZ(eps_data,cilindro1,ACOPLANTE_parameters,TRANSMISOR_parameters,tx,deltaX)"
   ]
  },
  {
   "cell_type": "markdown",
   "metadata": {},
   "source": [
    "Luego dibujamos y comparamos en la posición x = 0, para todo y. "
   ]
  },
  {
   "cell_type": "markdown",
   "metadata": {},
   "source": [
    "### Modelo con el Método de los Momentos\n",
    "\n",
    "Resuelvo con el método de los momentos y comparo con los anteriores."
   ]
  },
  {
   "cell_type": "code",
   "execution_count": null,
   "metadata": {},
   "outputs": [],
   "source": [
    "Et_mom = RunMoM(cilindro1,ACOPLANTE_parameters,TRANSMISOR_parameters,box,RES = 200)"
   ]
  },
  {
   "cell_type": "code",
   "execution_count": 22,
   "metadata": {},
   "outputs": [
    {
     "data": {
      "image/png": "[encoded data removed]",
      "text/plain": [
       "<Figure size 432x288 with 2 Axes>"
      ]
     },
     "metadata": {
      "needs_background": "light"
     },
     "output_type": "display_data"
    },
    {
     "name": "stdout",
     "output_type": "stream",
     "text": [
      "start time:  14:02:06\n",
      "end time:    14:22:44\n"
     ]
    }
   ],
   "source": [
    "x = np.linspace(-len(eps_data)*deltaX/2., len(eps_data)*deltaX/2., len(eps_data))\n",
    "\n",
    "fig2 = plt.figure(2)\n",
    "f2 = fig2.add_subplot(211)\n",
    "f2.plot(x,abs(Eztheory1[:,int(len(Eztheory1)/2)]),'b')\n",
    "f2.plot(x,abs(Ezfdtd[:,int(len(Ezfdtd)/2)]),'.g')\n",
    "f2.plot(-xt,abs(Et_mom[ntx,0]),'xb')\n",
    "f2.set_xlabel(r'y')\n",
    "f2.set_ylabel(r'abs($E_{z}$)')\n",
    "f2 = fig2.add_subplot(212)\n",
    "f2.plot(x,N.angle(Eztheory1)[:,int(len(Eztheory1)/2)],'b')\n",
    "f2.plot(x,-N.angle(Ezfdtd)[:,int(len(Ezfdtd)/2)],'.g')\n",
    "f2.plot(-xt,N.angle(Et_mom[ntx,0]),'xb')\n",
    "f2.set_xlabel(r'y')\n",
    "f2.set_ylabel(r'angle($E_{z}$)')\n",
    "\n",
    "plt.show()\n",
    "\n",
    "print('start time: ', start_time)\n",
    "print('end time:   ', tm.strftime('%H:%M:%S'))"
   ]
  },
  {
   "cell_type": "markdown",
   "metadata": {},
   "source": [
    "Comparo los valores en cada una de las antenas."
   ]
  },
  {
   "cell_type": "code",
   "execution_count": 42,
   "metadata": {},
   "outputs": [
    {
     "name": "stdout",
     "output_type": "stream",
     "text": [
      "Ez teoría:  90.6957578924858 62.656932367878625 90.69575789248579\n",
      "Ez angle teoría:  1.086794629324989 0.3202510124416041 1.0867946293249926\n",
      "Ez MoM:  [         nan 109.83865321  39.35805131 109.83859788]\n",
      "Ez angle MoM:  [       nan 1.31210218 0.25693605 1.31210223]\n",
      "Ez teoría:  89.18658270425038 61.47508052589303 89.1865827042503\n",
      "Ez angle teoría:  1.1225257630753682 0.3707604221197482 1.1225257630753671\n"
     ]
    }
   ],
   "source": [
    "#Posiciones de las antenas en enteros.\n",
    "ntxmin = N.argmin(abs(x+0.075))\n",
    "ntxmed = int(len(x)/2)\n",
    "ntxmax = N.argmin(abs(x-0.075))\n",
    "print('Ez teoría: ',abs(Eztheory1[ntxmed,ntxmax]),abs(Eztheory1[ntxmax,ntxmed]),abs(Eztheory1[ntxmed,ntxmin]))\n",
    "print('Ez angle teoría: ',N.angle(Eztheory1[ntxmed,ntxmax]),N.angle(Eztheory1[ntxmax,ntxmed]),N.angle(Eztheory1[ntxmed,ntxmin]))\n",
    "print('Ez MoM: ',abs(Et_mom[:,0]))\n",
    "print('Ez angle MoM: ',N.angle(Et_mom[:,0]))\n",
    "print('Ez teoría: ',abs(Ezfdtd[ntxmed,ntxmax]),abs(Ezfdtd[ntxmax,ntxmed]),abs(Ezfdtd[ntxmed,ntxmin]))\n",
    "print('Ez angle teoría: ',-N.angle(Ezfdtd[ntxmed,ntxmax]),-N.angle(Ezfdtd[ntxmax,ntxmed]),-N.angle(Ezfdtd[ntxmed,ntxmin]))\n"
   ]
  },
  {
   "cell_type": "markdown",
   "metadata": {},
   "source": [
    "## Conclusión\n",
    "\n",
    "Remarcamos que para poder llegar a los mismos valores que el analítico, debemos setear la fuente en meep con un valor dado: _TRANSMISOR_parameters.amp = 7.5e4_. Esto puede cambiar si el medio de acoplamiento es otro.\n",
    "\n",
    "$$E^{inc}_{z}=-I_{e}\\frac{\\omega\\mu_{0}}{4}H^{\\left(2\\right)}_{0}\\left(k_{b}\\left|\\rho-\\rho_{0}\\right|\\right)$$\n",
    "\n",
    "En este caso $I_{e} = 1$. \n",
    "\n",
    "Como se puede ver, la aproximación con resolución 5 en meep es muy buena y con un tiempo de simulación 600 (600 pasos, está como constante dentro de la función _Runmeep_, la constante nt = 600) ya es suficiente."
   ]
  },
  {
   "cell_type": "code",
   "execution_count": null,
   "metadata": {},
   "outputs": [],
   "source": []
  },
  {
   "cell_type": "code",
   "execution_count": null,
   "metadata": {},
   "outputs": [],
   "source": []
  }
 ],
 "metadata": {
  "kernelspec": {
   "display_name": "Python 3 (ipykernel)",
   "language": "python",
   "name": "python3"
  },
  "language_info": {
   "codemirror_mode": {
    "name": "ipython",
    "version": 3
   },
   "file_extension": ".py",
   "mimetype": "text/x-python",
   "name": "python",
   "nbconvert_exporter": "python",
   "pygments_lexer": "ipython3",
   "version": "3.10.6"
  }
 },
 "nbformat": 4,
 "nbformat_minor": 2
}
