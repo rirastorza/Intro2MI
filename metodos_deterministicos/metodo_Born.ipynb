{
 "cells": [
  {
   "cell_type": "markdown",
   "metadata": {},
   "source": [
    "# Aproximación de Born\n",
    "\n",
    "Es posible ejecutar esta Jupyter Notebook localmente o en Google Colaboratory.\n",
    "\n",
    "<p><a href=\"https://colab.research.google.com/github.com/rirastorza/Intro2MI/blob/master/metodos_deterministicos/metodo_Born.ipynb\"><img align=\"left\" src=\"https://colab.research.google.com/assets/colab-badge.svg\" alt=\"Open in Colab\" title=\"Open in Google Colaboratory\"></a>\n"
   ]
  },
  {
   "cell_type": "markdown",
   "metadata": {},
   "source": [
    "## Introducción\n",
    "\n",
    "Todo lo desarrollado aquí está basado en el libro de M. Pastorino (págs. 108-117).\n",
    "Antes de comenzar con este método vamos a estudiar la aproximación de Born de primer orden, y algunas formas de resolver numéricamente las integrales involucradas. Según esta aproximación, la Ec. (3.3.8) de M. Pastorino queda de la siguiente forma:\n",
    "\n",
    "$$E\\left(x,y\\right) \\approx E^{\\text{inc}}\\left(x,y\\right)+\\frac{jk_{b}}{4} \\iint \\left(\\varepsilon_{r}-\\varepsilon_{b}\\right) E^{\\text{inc}}\\left( x',y'\\right)H_{0}^{(2)}\\left( k_{b} \\left|\\rho-\\rho'\\right|\\right)dx'dy'$$\n",
    "\n",
    "Remarcamos que dentro de la integral doble (en 2D) queda el campo incidente ($E^{\\text{inc}}$), que es conocido, y no el campo total como en la expresión exacta.\n",
    "\n",
    "Para una celda $n$, considerando la permitividad constante ($\\left(\\varepsilon_{r}-\\varepsilon_{b}\\right) =$ constante en la celda $n$), entonces la parte derecha (integral) de esta ecuación queda como:\n",
    "\n",
    "$$b_{mn} = \\frac{jk_{b}}{4} \\iint_{ \\text{celda }n} E^{\\text{inc}}\\left( x',y'\\right)H_{0}^{(2)}\\left( k_{b} \\left|\\rho-\\rho'\\right|\\right)dx'dy'$$\n",
    "\n",
    "donde:\n",
    "$$ \\left|\\rho-\\rho'\\right| = \\sqrt{\\left( x'- x_{m}\\right)^{2}+\\left( y'- y_{m}\\right)^{2}}.$$\n",
    "\n",
    "Esto se puede aproximar de tres maneras: \n",
    "\n",
    " - Suponiendo que la celda es circular y el campo es constante en la celda (esto tiene solución analítica)\n",
    " - La celda es cuadrada (tal como lo hacemos en FDTD) y el campo es constante en la celda\n",
    " - Celda cuadrada con campo variable pero solución teórica incidente de línea de corriente $E^{\\text{inc}}\\left( x',y'\\right)$ (aproximación de Born)\n",
    " \n",
    "### Ejemplo: elipse decentrada\n",
    "\n",
    "En el siguiente ejemplo vamos a reconstruir la imágen de un setup S = 8 transmisores equiespaciados dispuestos en un círculo alrededor de una elipse descentrada que se encuentra en una región de interés. Se disponen M = 25 receptores en el mismo sector angular dispuesto en el libro de Pastorino (un ángulo de 270° opuesto a cada receptor). \n",
    "\n",
    "El campo disperso ($E_{s}$) se \"midió\" a partir de una simulación en Meep así como también el campo incidente. Conociendo esta información y la $[B]$ se puede obtener el mapa de permitividades en la región de interés. Esta región se discretiza en un cuadrado de N$\\times$N.\n",
    "\n",
    "$$[B]\\tau = e^{s}.$$\n",
    "\n",
    "donde $e^{s} = [ E^{1}_{s},E^{2}_{s}, \\cdots , E^{M}_{s}]$ y  $\\tau = [\\tau_{1},\\tau_{2},\\cdots, \\tau_{N}]$.\n",
    "\n",
    "## Código\n",
    "\n",
    "Utilizaremos unas funciones que desarrollamos y están cargadas en la librería _funciones_born.py_. Remarcamos que tenemos tres objetos: scatterer, transmisor, y acoplante. Podemos cargar los parámetros de cada uno aunque si no los definimos ya tienen cargados unos por defecto (ver _funciones_born.py_).\n",
    "\n",
    "Debe notarse que para correr este ejemplo se debe tener medido en las antenas receptoras el campo incidente (archivo del tipo elipse_inverso_des-EzincTxi.h5, donde i es el número del transmisor), campo total (elipse_inverso_des-EzTxi.h5) y además calculadas los $b_{mn}$. Los dos primeros los resolvimos con FDTD (software meep) y los $b_{mn}$ con python en otro script (guardado como B_Txi.npy, donde i es el número del transmisor). "
   ]
  },
  {
   "cell_type": "code",
   "execution_count": 2,
   "metadata": {},
   "outputs": [
    {
     "name": "stderr",
     "output_type": "stream",
     "text": [
      "\n",
      "Bad key savefig.frameon in file /home/ramiro/.local/lib/python3.6/site-packages/matplotlib/mpl-data/stylelib/_classic_test.mplstyle, line 421 ('savefig.frameon : True')\n",
      "You probably need to get an updated matplotlibrc file from\n",
      "https://github.com/matplotlib/matplotlib/blob/v3.3.1/matplotlibrc.template\n",
      "or from the matplotlib source distribution\n",
      "\n",
      "Bad key verbose.level in file /home/ramiro/.local/lib/python3.6/site-packages/matplotlib/mpl-data/stylelib/_classic_test.mplstyle, line 472 ('verbose.level  : silent      # one of silent, helpful, debug, debug-annoying')\n",
      "You probably need to get an updated matplotlibrc file from\n",
      "https://github.com/matplotlib/matplotlib/blob/v3.3.1/matplotlibrc.template\n",
      "or from the matplotlib source distribution\n",
      "\n",
      "Bad key verbose.fileo in file /home/ramiro/.local/lib/python3.6/site-packages/matplotlib/mpl-data/stylelib/_classic_test.mplstyle, line 473 ('verbose.fileo  : sys.stdout  # a log filename, sys.stdout or sys.stderr')\n",
      "You probably need to get an updated matplotlibrc file from\n",
      "https://github.com/matplotlib/matplotlib/blob/v3.3.1/matplotlibrc.template\n",
      "or from the matplotlib source distribution\n",
      "In /home/ramiro/.local/lib/python3.6/site-packages/matplotlib/mpl-data/stylelib/_classic_test.mplstyle: \n",
      "The text.latex.preview rcparam was deprecated in Matplotlib 3.3 and will be removed two minor releases later.\n",
      "In /home/ramiro/.local/lib/python3.6/site-packages/matplotlib/mpl-data/stylelib/_classic_test.mplstyle: \n",
      "The mathtext.fallback_to_cm rcparam was deprecated in Matplotlib 3.3 and will be removed two minor releases later.\n",
      "In /home/ramiro/.local/lib/python3.6/site-packages/matplotlib/mpl-data/stylelib/_classic_test.mplstyle: Support for setting the 'mathtext.fallback_to_cm' rcParam is deprecated since 3.3 and will be removed two minor releases later; use 'mathtext.fallback : 'cm' instead.\n",
      "In /home/ramiro/.local/lib/python3.6/site-packages/matplotlib/mpl-data/stylelib/_classic_test.mplstyle: \n",
      "The validate_bool_maybe_none function was deprecated in Matplotlib 3.3 and will be removed two minor releases later.\n",
      "In /home/ramiro/.local/lib/python3.6/site-packages/matplotlib/mpl-data/stylelib/_classic_test.mplstyle: \n",
      "The savefig.jpeg_quality rcparam was deprecated in Matplotlib 3.3 and will be removed two minor releases later.\n",
      "In /home/ramiro/.local/lib/python3.6/site-packages/matplotlib/mpl-data/stylelib/_classic_test.mplstyle: \n",
      "The keymap.all_axes rcparam was deprecated in Matplotlib 3.3 and will be removed two minor releases later.\n",
      "In /home/ramiro/.local/lib/python3.6/site-packages/matplotlib/mpl-data/stylelib/_classic_test.mplstyle: \n",
      "The animation.avconv_path rcparam was deprecated in Matplotlib 3.3 and will be removed two minor releases later.\n",
      "In /home/ramiro/.local/lib/python3.6/site-packages/matplotlib/mpl-data/stylelib/_classic_test.mplstyle: \n",
      "The animation.avconv_args rcparam was deprecated in Matplotlib 3.3 and will be removed two minor releases later.\n"
     ]
    }
   ],
   "source": [
    "import os\n",
    "from funciones_born import *\n",
    "import time as tm\n",
    "from matplotlib import pyplot as plt\n",
    "from skimage.transform import rescale, resize, downscale_local_mean\n",
    "import h5py\n",
    "import matplotlib.patches as mpatches\n",
    "from matplotlib.collections import PatchCollection\n",
    "\n",
    "SCATTERER_parameters.epsr = 1.2\n",
    "SCATTERER_parameters.sigma = 0.0\n",
    "SCATTERER_parameters.f = 1.0e9\n",
    "SCATTERER_parameters.radio = 0.5*c/SCATTERER_parameters.f\n",
    "TRANSMISOR_parameters.f = 1.0e9\n",
    "TRANSMISOR_parameters.amp = 7500.\n",
    "ACOPLANTE_parameters.f = 1.0e9\n",
    "ACOPLANTE_parameters.epsr = 1.0  \n",
    "ACOPLANTE_parameters.sigma = 0.0\n",
    "\n",
    "resolu = 10\n",
    "\n",
    "Btotal = N.zeros((25*8,29*29),dtype = complex)\n",
    "es = N.zeros((25*8,),dtype = complex)\n",
    "Es_m = []"
   ]
  },
  {
   "cell_type": "markdown",
   "metadata": {},
   "source": [
    "Comenzaremos a cargar los datos para cada ubicación del transmisor en sus S = 8 ubicaciones. Para eso, haremos una iteración. En _funciones_born.py_ hay algunas funciones que permiten cargar los archivos .h5, que es la extensión en la cual se guardaron los datos simulados con FDTD (software meep). Con este software \"medimos\" (simulamos) el campo incidente y campo total en las antenas receptoras. "
   ]
  },
  {
   "cell_type": "code",
   "execution_count": 3,
   "metadata": {},
   "outputs": [
    {
     "name": "stdout",
     "output_type": "stream",
     "text": [
      "Corrida sin hueso, Tx: 0\n",
      "118 <class 'int'> <class 'numpy.ndarray'>\n",
      "Corrida sin hueso, Tx: 1\n",
      "118 <class 'int'> <class 'numpy.ndarray'>\n",
      "Corrida sin hueso, Tx: 2\n",
      "118 <class 'int'> <class 'numpy.ndarray'>\n",
      "Corrida sin hueso, Tx: 3\n",
      "118 <class 'int'> <class 'numpy.ndarray'>\n",
      "Corrida sin hueso, Tx: 4\n",
      "118 <class 'int'> <class 'numpy.ndarray'>\n",
      "Corrida sin hueso, Tx: 5\n",
      "118 <class 'int'> <class 'numpy.ndarray'>\n",
      "Corrida sin hueso, Tx: 6\n",
      "118 <class 'int'> <class 'numpy.ndarray'>\n",
      "Corrida sin hueso, Tx: 7\n",
      "118 <class 'int'> <class 'numpy.ndarray'>\n"
     ]
    }
   ],
   "source": [
    "for Tx in range(int(TRANSMISOR_parameters.S)):\n",
    "    \n",
    "    #rhoS es el radio del circulo donde están los transmisores y los receptores.\n",
    "    rhoS = 1.5*c/TRANSMISOR_parameters.f\n",
    "    xt = (rhoS)*N.cos(Tx*2*pi/TRANSMISOR_parameters.S) #Coordenada x antena transmisora\n",
    "    yt = (rhoS)*N.sin(Tx*2*pi/TRANSMISOR_parameters.S) #Coordenada y antena transmisora\n",
    "    phi_s, rho_s  = cart2pol(xt, yt)\n",
    "\n",
    "\n",
    "    #Receptores (los M = 55 opuestos al transmisor según Pastorino en un arco de 270 °C)\n",
    "    M = 25\n",
    "    MM = N.arange(1,M+1)\n",
    "    xm = []\n",
    "    ym = []\n",
    "    for m in MM:\n",
    "        phi_i = Tx*2*pi/TRANSMISOR_parameters.S\n",
    "        phi_m = phi_i +pi/4.+(m-1)*3.*pi/(2.*(M-1))\n",
    "        xm.append((rhoS)*N.cos(phi_m)) #Coordenada x antena transmisora\n",
    "        ym.append((rhoS)*N.sin(phi_m)) #Coordenada y antena transmisora\n",
    "\n",
    "\n",
    "    problemname = \"elipse_inverso_des\"\n",
    "    landa = c/TRANSMISOR_parameters.f\n",
    "    sx = 4.0*landa #(aproximadamente 1.2 m)\n",
    "    sy = 4.0*landa\n",
    "\n",
    "    #Aquí levanto un archivo que contiene la caja de simulación\n",
    "    #es solo a fin de tener las dimensiones\n",
    "    filename = problemname+\"-eps-000000.00.h5\"\n",
    "    f = h5py.File(filename, 'r')\n",
    "    epsilon = f[list(f.keys())[0]][:]\n",
    "    NN = len(epsilon)\n",
    "    deltaX = sx/(NN)\n",
    "    epsilon = N.asarray(epsilon)\n",
    "    extent=[-len(epsilon[0,:])*deltaX/2./landa,len(epsilon[0,:])*deltaX/2./landa,-len(epsilon[0,:])*deltaX/2./landa,len(epsilon[0,:])*deltaX/2./landa]\n",
    "    x = N.linspace(-len(epsilon)*deltaX/2., len(epsilon)*deltaX/2., len(epsilon))\n",
    "\n",
    "    \n",
    "    #Acá cargo las simulaciones hechas con FDTD (software meep)\n",
    "    #Sería como tener campo incidente y campo total medidos\n",
    "    x_10,Ezmeep_10, phase_10 = campoEmeep(TRANSMISOR_parameters,problemname,sx = sx, Tx = Tx, resolu = resolu,)\n",
    "    xinc_10,Ezmeepinc_10, phaseinc_10 = campoEmeepinc(TRANSMISOR_parameters,problemname,sx = sx,Tx = Tx, resolu = resolu,)\n",
    "    \n",
    "    #Aquí tenemos el campo disperso\n",
    "    Es = Ezmeep_10*N.exp(-1j*phase_10)-Ezmeepinc_10*N.exp(-1j*phaseinc_10)\n",
    "\n",
    "\n",
    "    #Primero selecciono la zona de búqueda (región de interés)\n",
    "    a = 0.05\n",
    "    NN = resolu*sx/a\n",
    "    Nmin = -int(resolu*landa/a)+int(NN/2)\n",
    "    Nmax = int(resolu*landa/a)+int(NN/2)\n",
    "    print(Nmax-Nmin,type(Nmin),type(epsilon))\n",
    "    extent2=[-landa/landa,landa/landa,-landa/landa,landa/landa]\n",
    "\n",
    "    #N = 29*29#En este caso lo parto en 29, y un tamaño de 2*lambda\n",
    "    epsilonBusqueda = N.asarray(epsilon)[Nmin:Nmax,Nmin:Nmax]\n",
    "\n",
    "    zonaBusqueda = resize(epsilonBusqueda,(int(epsilonBusqueda.shape[0]/4), int(epsilonBusqueda.shape[1]/4)))\n",
    "\n",
    "    #Defino el vector Tau (pag 18 de libro de Pastorino)\n",
    "    omega =2.*pi*TRANSMISOR_parameters.f\n",
    "    tau = (1.0j)*omega*eps0*(N.reshape(zonaBusqueda, len(zonaBusqueda)**2)-1)#función objeto o scattering potential, en este caso es solo imaginaria \n",
    "\n",
    "    #Coordenadas de la zona de búsqueda\n",
    "    deltaXbusqueda = 2.*landa/len(zonaBusqueda)\n",
    "    xn = N.linspace(-len(zonaBusqueda)*deltaXbusqueda/2.+deltaXbusqueda/2, len(zonaBusqueda)*deltaXbusqueda/2.-deltaXbusqueda/2, len(zonaBusqueda))\n",
    "    yn = N.linspace(-len(zonaBusqueda)*deltaXbusqueda/2.+deltaXbusqueda/2, len(zonaBusqueda)*deltaXbusqueda/2.-deltaXbusqueda/2, len(zonaBusqueda))\n",
    "    xngrid, yngrid = N.meshgrid(xn, yn)\n",
    "\n",
    "    xnv = N.reshape(xngrid,len(zonaBusqueda)**2)\n",
    "    ynv = N.reshape(yngrid,len(zonaBusqueda)**2)\n",
    "    \n",
    "    Ym = N.asarray(ym)\n",
    "    Xm = N.asarray(xm)\n",
    "\n",
    "    #Aquí levanto B_Tx6.npy                \n",
    "    filenombre = 'B_Tx'+str(Tx)+'.npy'\n",
    "    BB = N.load(filenombre)    \n",
    "        \n",
    "    Btotal[Tx*25:Tx*25+25,:] = BB\n",
    "    \n",
    "    \n",
    "    for mm in N.arange(M):\n",
    "        xDint = int(resolu*Xm[mm]/a)+int(len(Es)/2) #Coordenada x antena receptora en entero\n",
    "        yDint = int(resolu*Ym[mm]/a)+int(len(Es)/2) #Coordenada y antena receptora en entero\n",
    "        Es_m.append(Es[xDint,yDint])\n"
   ]
  },
  {
   "cell_type": "markdown",
   "metadata": {},
   "source": [
    "Resolución del sistema de ecuaciones"
   ]
  },
  {
   "cell_type": "code",
   "execution_count": 4,
   "metadata": {},
   "outputs": [
    {
     "name": "stdout",
     "output_type": "stream",
     "text": [
      "(200, 841) (200, 1)\n"
     ]
    }
   ],
   "source": [
    "es= N.matrix(N.asarray(Es_m)).T\n",
    "BMatriz = N.matrix(Btotal)\n",
    "print(BMatriz.shape,es.shape)\n",
    "u, s, vh = N.linalg.svd(BMatriz, full_matrices=True)\n",
    "#print(s)\n",
    "tau_es = N.linalg.pinv(BMatriz,rcond=0.1)*es\n",
    "tau_estimado = N.reshape(tau_es, (len(zonaBusqueda),len(zonaBusqueda)))"
   ]
  },
  {
   "cell_type": "markdown",
   "metadata": {},
   "source": [
    "### Figuras de la estimación\n",
    "\n",
    "Primero se grafica la real con el arreglo de antenas en la posición del transmisor en Tx = 0. En línea de puntos se muestra la región de interés (ROI)."
   ]
  },
  {
   "cell_type": "code",
   "execution_count": 8,
   "metadata": {},
   "outputs": [
    {
     "data": {
      "image/png": "[encoded data removed]",
      "text/plain": [
       "<Figure size 432x288 with 4 Axes>"
      ]
     },
     "metadata": {
      "needs_background": "light"
     },
     "output_type": "display_data"
    }
   ],
   "source": [
    "fig, axes = plt.subplots(1, 2)\n",
    "pos1 = axes[0].imshow(epsilon, cmap=plt.cm.gray, interpolation='nearest',origin = 'lower',extent = extent)\n",
    "fig.colorbar(pos1, ax=axes[0])\n",
    "\n",
    "xsq = N.linspace(-1,1,100)\n",
    "ysq = N.linspace(-1,1,100)\n",
    "\n",
    "axes[0].plot(xsq,-N.ones_like(xsq),'w-.')\n",
    "axes[0].plot(xsq,N.ones_like(xsq),'w-.')\n",
    "axes[0].plot(N.ones_like(xsq),ysq,'w-.')\n",
    "axes[0].plot(-N.ones_like(xsq),ysq,'w-.')\n",
    "\n",
    "M = 25\n",
    "MM = N.arange(1,M+1)\n",
    "xm = []\n",
    "ym = []\n",
    "Tx = 0\n",
    "for m in MM:\n",
    "    phi_i = Tx*2*pi/TRANSMISOR_parameters.S\n",
    "    phi_m = phi_i +pi/4.+(m-1)*3.*pi/(2.*(M-1))\n",
    "    xm.append((rhoS)*N.cos(phi_m)) #Coordenada x antena transmisora\n",
    "    ym.append((rhoS)*N.sin(phi_m)) #Coordenada y antena transmisora\n",
    "\n",
    "axes[0].plot(N.asarray(xm)/landa,N.asarray(ym)/landa,'wo')\n",
    "axes[0].plot(rhoS/landa,0.0,'w>')\n",
    "#Posición de la elipse\n",
    "cx=-0.06     #x-position of the center\n",
    "cy=0.06    #y-position of the center\n",
    "b=0.225     #radius on the x-axis\n",
    "a=0.1125    #radius on the y-axis\n",
    "t = N.linspace(0, 2*pi, 100)\n",
    "\n",
    "pos2 = axes[1].imshow(((tau_estimado/(1.j*omega)+eps0)/(eps0)).real, cmap=plt.cm.gray, interpolation='nearest',origin = 'lower',extent = extent2)\n",
    "fig.colorbar(pos2, ax=axes[1])\n",
    "axes[1].plot((cx+a*N.cos(t))/landa,(cy+b*N.sin(t))/landa,'w-.')\n",
    "\n",
    "plt.show()"
   ]
  },
  {
   "cell_type": "markdown",
   "metadata": {},
   "source": [
    "Y finalmente la estimación en la región de interés con la elipse verdadera en línea punteada."
   ]
  }
 ],
 "metadata": {
  "kernelspec": {
   "display_name": "Python 3",
   "language": "python",
   "name": "python3"
  },
  "language_info": {
   "codemirror_mode": {
    "name": "ipython",
    "version": 3
   },
   "file_extension": ".py",
   "mimetype": "text/x-python",
   "name": "python",
   "nbconvert_exporter": "python",
   "pygments_lexer": "ipython3",
   "version": "3.6.9"
  }
 },
 "nbformat": 4,
 "nbformat_minor": 2
}
